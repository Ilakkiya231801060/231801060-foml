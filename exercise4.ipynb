{
 "cells": [
  {
   "cell_type": "code",
   "execution_count": 1,
   "id": "9f07fc0f-43cd-49a9-9aaa-3397ad811964",
   "metadata": {},
   "outputs": [
    {
     "name": "stdout",
     "output_type": "stream",
     "text": [
      "(4, 2)\n",
      "(4, 1)\n",
      "[[0.1]\n",
      " [0.3]]\n",
      "[[6.62916366]\n",
      " [6.62916441]]\n",
      "[-10.23197316]\n",
      "[0.02652435]\n",
      "[0.95375065]\n",
      "[3.59993686e-05]\n",
      "[0.02652437]\n"
     ]
    }
   ],
   "source": [
    "import numpy as np\n",
    "import pandas as pd\n",
    "\n",
    "input_value = np.array([[0, 0], [0, 1], [1, 1], [1, 0]])\n",
    "print(input_value.shape)\n",
    "\n",
    "output = np.array([0, 0, 1, 0])\n",
    "output = output.reshape(4, 1)\n",
    "print(output.shape)\n",
    "\n",
    "weights = np.array([[0.1], [0.3]])\n",
    "print(weights)\n",
    "\n",
    "bias = 0.2\n",
    "\n",
    "def sigmoid_func(x):\n",
    "    return 1 / (1 + np.exp(-x))\n",
    "\n",
    "def der(x):\n",
    "    return sigmoid_func(x) * (1 - sigmoid_func(x))\n",
    "\n",
    "for epochs in range(15000):\n",
    "    input_arr = input_value\n",
    "    weighted_sum = np.dot(input_arr, weights) + bias\n",
    "    first_output = sigmoid_func(weighted_sum)\n",
    "    error = first_output - output\n",
    "    total_error = np.square(np.subtract(first_output, output)).mean()\n",
    "    first_der = error\n",
    "    second_der = der(first_output)\n",
    "    derivative = first_der * second_der\n",
    "    t_input = input_value.T\n",
    "    final_derivative = np.dot(t_input, derivative)\n",
    "    weights = weights - (0.05 * final_derivative)\n",
    "    for i in derivative:\n",
    "        bias = bias - (0.05 * i)\n",
    "\n",
    "print(weights)\n",
    "print(bias)\n",
    "\n",
    "pred = np.array([1, 0])\n",
    "result = np.dot(pred, weights) + bias\n",
    "res = sigmoid_func(result)\n",
    "print(res)\n",
    "\n",
    "pred = np.array([1, 1])\n",
    "result = np.dot(pred, weights) + bias\n",
    "res = sigmoid_func(result)\n",
    "print(res)\n",
    "\n",
    "pred = np.array([0, 0])\n",
    "result = np.dot(pred, weights) + bias\n",
    "res = sigmoid_func(result)\n",
    "print(res)\n",
    "\n",
    "pred = np.array([0, 1])\n",
    "result = np.dot(pred, weights) + bias\n",
    "res = sigmoid_func(result)\n",
    "print(res)"
   ]
  },
  {
   "cell_type": "code",
   "execution_count": null,
   "id": "3bbd413d-ccbd-4e88-83b4-82832c16312b",
   "metadata": {},
   "outputs": [],
   "source": []
  }
 ],
 "metadata": {
  "kernelspec": {
   "display_name": "Python 3 (ipykernel)",
   "language": "python",
   "name": "python3"
  },
  "language_info": {
   "codemirror_mode": {
    "name": "ipython",
    "version": 3
   },
   "file_extension": ".py",
   "mimetype": "text/x-python",
   "name": "python",
   "nbconvert_exporter": "python",
   "pygments_lexer": "ipython3",
   "version": "3.12.5"
  }
 },
 "nbformat": 4,
 "nbformat_minor": 5
}
